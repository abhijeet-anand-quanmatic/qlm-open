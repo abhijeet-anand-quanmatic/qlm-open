{
 "cells": [
  {
   "cell_type": "code",
   "execution_count": 1,
   "metadata": {},
   "outputs": [],
   "source": [
    "%load_ext autoreload\n",
    "%autoreload 2\n",
    "\n",
    "########################################\n",
    "# モジュール探索パスの確認\n",
    "########################################\n",
    "\n",
    "import os\n",
    "import sys\n",
    "\n",
    "# \"poc-template\" を含むパスが存在するかを確認\n",
    "exists = any(\"poc-template\" in path for path in sys.path)\n",
    "\n",
    "# 存在しなければ、srcディレクトリを追加\n",
    "if not exists:\n",
    "    project_root = os.path.abspath(os.path.join(os.pardir))  # プロジェクトのルートディレクトリ\n",
    "    src_path = os.path.join(project_root, \"src\")  # srcディレクトリのパス\n",
    "    sys.path.append(src_path)"
   ]
  },
  {
   "cell_type": "code",
   "execution_count": 5,
   "metadata": {},
   "outputs": [
    {
     "name": "stdout",
     "output_type": "stream",
     "text": [
      "fixstars\n"
     ]
    }
   ],
   "source": [
    "from config import Config\n",
    "\n",
    "config = Config()\n",
    "print(config.FIXSTARS_API_TOKEN)"
   ]
  }
 ],
 "metadata": {
  "kernelspec": {
   "display_name": ".venv",
   "language": "python",
   "name": "python3"
  },
  "language_info": {
   "codemirror_mode": {
    "name": "ipython",
    "version": 3
   },
   "file_extension": ".py",
   "mimetype": "text/x-python",
   "name": "python",
   "nbconvert_exporter": "python",
   "pygments_lexer": "ipython3",
   "version": "3.12.3"
  }
 },
 "nbformat": 4,
 "nbformat_minor": 2
}
